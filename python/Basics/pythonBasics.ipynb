{
 "cells": [
  {
   "cell_type": "markdown",
   "source": [
    "# What is python?\n",
    "Python is an object-oriented programming language (OOP) known for its clear syntax and readability, making it an excellent choice for beginners. It's a high-level, interpreted language, which means it executes instructions directly and doesn't require compiling (Like C++ and Java). This feature allows for rapid development and testing. Python supports multiple programming paradigms, including **procedural** and **functional** programming, in addition to object-oriented programming. Its extensive standard library, often referred to as its \"batteries-included\" nature, provides tools to many tasks, making Python very versatile and popular in various fields such as web development, data science, scientific computing, and more.\n",
    "\n",
    "## We will be covering the following topics in this tutorial:\n",
    "- [Variables](#Variables)\n",
    "- [Data Types](#Data-Types)\n",
    "- [Operators](#Operators)\n",
    "- [Conditional Statements](#Conditional-Statements)\n",
    "- [Loops](#Loops)\n",
    "- [Functions](#Functions)\n",
    "- [Classes](#Classes)\n",
    "- [Modules](#Modules)"
   ],
   "metadata": {
    "collapsed": false
   },
   "id": "c1e17495a2038572"
  },
  {
   "cell_type": "markdown",
   "source": [
    "# Variables\n",
    "Variables are used to store data in memory. They can be thought of as containers that hold information. Variables can be assigned a value using the `=` operator. The value of a variable can be changed at any time. Variables can be named anything as long as they follow the following rules:\n",
    "- Variable names must start with a letter or an underscore, such as:\n",
    "    - `name`\n",
    "    - `_name`\n",
    "- The remainder of your variable name may consist of letters, numbers and underscores, such as:\n",
    "    - `name_#21`\n",
    "    - `name_2`\n",
    "    - `λ`\n",
    "- Names are case sensitive.\n",
    "- Reserved words (keywords) cannot be used as variable names.\n",
    "    - `False`, `class`, `finally`, `is`, `return`, `None`, `continue`, `for`, `lambda`, `try`, `True`, `def`, `from`, `nonlocal`, `while`, `and`, `del`, `global`, `not`, `with`, `as`, `elif`, `if`, `or`, `yield`, `assert`, `else`, `import`, `pass`, `break`, `except`, `in`, `raise` etc\n",
    "- Reassigning a variable to a new value will overwrite the previous value.\n",
    "- You can print the value of a variable using the `print()` function."
   ],
   "metadata": {
    "collapsed": false
   },
   "id": "65682650c8b66359"
  },
  {
   "cell_type": "code",
   "execution_count": 3,
   "outputs": [
    {
     "name": "stdout",
     "output_type": "stream",
     "text": [
      "5\n",
      "Hello World\n"
     ]
    }
   ],
   "source": [
    "# Example of variable assignment\n",
    "x = 5\n",
    "string = \"Hello World\"\n",
    "print(x) # this is a print statement that allows you to print the value of a variable in the console"
   ],
   "metadata": {
    "collapsed": false,
    "ExecuteTime": {
     "end_time": "2023-11-17T13:14:37.476161400Z",
     "start_time": "2023-11-17T13:14:37.462440500Z"
    }
   },
   "id": "8f5eff92134c2275"
  },
  {
   "cell_type": "code",
   "execution_count": 4,
   "outputs": [
    {
     "ename": "SyntaxError",
     "evalue": "invalid decimal literal (2033762310.py, line 2)",
     "output_type": "error",
     "traceback": [
      "\u001B[1;36m  Cell \u001B[1;32mIn[4], line 2\u001B[1;36m\u001B[0m\n\u001B[1;33m    1x = 5\u001B[0m\n\u001B[1;37m    ^\u001B[0m\n\u001B[1;31mSyntaxError\u001B[0m\u001B[1;31m:\u001B[0m invalid decimal literal\n"
     ]
    }
   ],
   "source": [
    "# Example of what not to do\n",
    "1x = 5"
   ],
   "metadata": {
    "collapsed": false,
    "ExecuteTime": {
     "end_time": "2023-11-17T13:14:45.380480600Z",
     "start_time": "2023-11-17T13:14:45.375879700Z"
    }
   },
   "id": "c94957004ea06e1b"
  },
  {
   "cell_type": "code",
   "execution_count": 5,
   "outputs": [
    {
     "name": "stdout",
     "output_type": "stream",
     "text": [
      "5\n",
      "10\n"
     ]
    }
   ],
   "source": [
    "# example of reassigning a variable\n",
    "x = 5\n",
    "print(x)\n",
    "x = 10\n",
    "print(x)"
   ],
   "metadata": {
    "collapsed": false,
    "ExecuteTime": {
     "end_time": "2023-11-17T13:14:47.595441300Z",
     "start_time": "2023-11-17T13:14:47.574580100Z"
    }
   },
   "id": "3d4ca57ecf6cd77b"
  },
  {
   "cell_type": "code",
   "execution_count": 7,
   "outputs": [],
   "source": [
    "# Print out hello world below by assigning a variable with the value \"Hello World\" and printing it\n",
    "hello = ...\n",
    "print(...)"
   ],
   "metadata": {
    "collapsed": false,
    "ExecuteTime": {
     "end_time": "2023-11-17T13:17:20.212052200Z",
     "start_time": "2023-11-17T13:17:20.208038600Z"
    }
   },
   "id": "e16613f03da1f310"
  },
  {
   "cell_type": "markdown",
   "source": [
    "# Data Types in Python\n",
    "Data types are the classification or categorization of data items. It represents the kind of value that tells what operations can be performed on a particular data. Since everything is an object in Python programming, data types are actually classes and variables are instance (object) of these classes.\n",
    "## There are 5 main data types in Python:\n",
    "- Numeric\n",
    "- Sequence Type\n",
    "- Boolean\n",
    "- Set\n",
    "- Dictionary"
   ],
   "metadata": {
    "collapsed": false
   },
   "id": "5ef331f936f82c79"
  },
  {
   "cell_type": "markdown",
   "source": [
    "## Numeric Data Types\n",
    "| Data Type | Description | Example |\n",
    "| --- | --- | --- |\n",
    "| int | Integer | `x = 5` |\n",
    "| float | Floating point number | `x = 5.0` |\n",
    "| complex | Complex number | `x = 1 + 2j` |\n",
    "### Integers\n",
    "Integers are whole numbers. They can be positive or negative. Integers have unlimited precision.\n",
    "### Floats\n",
    "Floats are floating point numbers. They can be positive or negative. Floats have limited precision.\n",
    "### Complex Numbers\n",
    "Complex numbers are numbers with a real and imaginary part. They are written with a \"j\" as the imaginary part."
   ],
   "metadata": {
    "collapsed": false
   },
   "id": "ec338b80b01fd65e"
  },
  {
   "cell_type": "code",
   "execution_count": 9,
   "outputs": [],
   "source": [
    "# Example of numeric data types\n",
    "x = 5 # int\n",
    "y = 5.0 # float\n",
    "z = 1 + 2j # complex"
   ],
   "metadata": {
    "collapsed": false,
    "ExecuteTime": {
     "end_time": "2023-11-17T13:26:05.452749400Z",
     "start_time": "2023-11-17T13:26:05.429709200Z"
    }
   },
   "id": "95b78333f31e8850"
  },
  {
   "cell_type": "code",
   "execution_count": 11,
   "outputs": [
    {
     "name": "stdout",
     "output_type": "stream",
     "text": [
      "Ellipsis\n",
      "Ellipsis\n"
     ]
    }
   ],
   "source": [
    "# Print out the sum of x and y\n",
    "print(...)\n",
    "\n",
    "# Print out the product of x, y, and z\n",
    "print(...)"
   ],
   "metadata": {
    "collapsed": false,
    "ExecuteTime": {
     "end_time": "2023-11-17T13:26:54.960492100Z",
     "start_time": "2023-11-17T13:26:54.944377800Z"
    }
   },
   "id": "74a2ceed5e201149"
  },
  {
   "cell_type": "markdown",
   "source": [
    "## Sequence Data Types\n",
    "| Data Type | Description | Example |\n",
    "| --- | --- | --- |\n",
    "| str | String | `x = \"Hello World\"` |\n",
    "| list | List | `x = [\"apple\", \"banana\", \"cherry\"]` |\n",
    "| tuple | Tuple | `x = (\"apple\", \"banana\", \"cherry\")` |\n",
    "### Strings\n",
    "Strings are sequences of characters. They are used to represent text-based information. Strings are immutable, meaning they cannot be changed after they are created.\n",
    "### Lists\n",
    "Lists are ordered sequences of objects. They are mutable, meaning they can be changed after they are created. Lists are created using square brackets `[]`.\n",
    "### Tuples\n",
    "Tuples are ordered sequences of objects. They are immutable, meaning they cannot be changed after they are created. Tuples are created using parentheses `()`."
   ],
   "metadata": {
    "collapsed": false
   },
   "id": "8cdbd841206bd194"
  },
  {
   "cell_type": "code",
   "execution_count": null,
   "outputs": [],
   "source": [
    "# Example of sequence data types\n",
    "x = \"Hello World\" # str\n",
    "y = [\"apple\", \"banana\", \"cherry\"] # list\n",
    "z = (\"apple\", \"banana\", \"cherry\") # tuple"
   ],
   "metadata": {
    "collapsed": false
   },
   "id": "cec13c5df0b5fed9"
  },
  {
   "cell_type": "markdown",
   "source": [
    "You can access elements in a sequence using indexing. Indexing starts at 0 in Python. Some other languages start indexing at 1 which is cringe.\n",
    "Some examples of indexing:"
   ],
   "metadata": {
    "collapsed": false
   },
   "id": "e6e845a1a2e85552"
  },
  {
   "cell_type": "code",
   "execution_count": 13,
   "outputs": [
    {
     "name": "stdout",
     "output_type": "stream",
     "text": [
      "H\n",
      "e\n",
      "d\n",
      "l\n",
      "Hello\n",
      "World\n"
     ]
    }
   ],
   "source": [
    "# Example of indexing\n",
    "x = \"Hello World\"\n",
    "print(x[0]) # prints the first character in the string\n",
    "print(x[1]) # prints the second character in the string\n",
    "print(x[-1]) # prints the last character in the string\n",
    "print(x[-2]) # prints the second to last character in the string\n",
    "print(x[0:5]) # prints the first 5 characters in the string\n",
    "print(x[6:]) # prints the string starting from the 7th character"
   ],
   "metadata": {
    "collapsed": false,
    "ExecuteTime": {
     "end_time": "2023-11-17T13:30:03.494226100Z",
     "start_time": "2023-11-17T13:30:03.476611Z"
    }
   },
   "id": "cf551bdedd41aa1"
  },
  {
   "cell_type": "markdown",
   "source": [
    "If they are mutable, you can change elements in a sequence using indexing or other methods."
   ],
   "metadata": {
    "collapsed": false
   },
   "id": "a21afffca75c9d7d"
  },
  {
   "cell_type": "code",
   "execution_count": 14,
   "outputs": [
    {
     "ename": "TypeError",
     "evalue": "'str' object does not support item assignment",
     "output_type": "error",
     "traceback": [
      "\u001B[1;31m---------------------------------------------------------------------------\u001B[0m",
      "\u001B[1;31mTypeError\u001B[0m                                 Traceback (most recent call last)",
      "Cell \u001B[1;32mIn[14], line 3\u001B[0m\n\u001B[0;32m      1\u001B[0m \u001B[38;5;66;03m# Example of changing elements in a sequence\u001B[39;00m\n\u001B[0;32m      2\u001B[0m x \u001B[38;5;241m=\u001B[39m \u001B[38;5;124m\"\u001B[39m\u001B[38;5;124mHello World\u001B[39m\u001B[38;5;124m\"\u001B[39m\n\u001B[1;32m----> 3\u001B[0m x[\u001B[38;5;241m0\u001B[39m] \u001B[38;5;241m=\u001B[39m \u001B[38;5;124m\"\u001B[39m\u001B[38;5;124mh\u001B[39m\u001B[38;5;124m\"\u001B[39m\n",
      "\u001B[1;31mTypeError\u001B[0m: 'str' object does not support item assignment"
     ]
    }
   ],
   "source": [
    "# Example of changing elements in a sequence\n",
    "x = \"Hello World\"\n",
    "x[0] = \"h\" # this will throw an error because strings are immutable"
   ],
   "metadata": {
    "collapsed": false,
    "ExecuteTime": {
     "end_time": "2023-11-17T13:30:46.711432Z",
     "start_time": "2023-11-17T13:30:44.882162700Z"
    }
   },
   "id": "2826a8e7e4241a65"
  },
  {
   "cell_type": "code",
   "execution_count": 15,
   "outputs": [
    {
     "name": "stdout",
     "output_type": "stream",
     "text": [
      "['orange', 'banana', 'cherry']\n",
      "['orange', 'banana', 'cherry', 'grape']\n",
      "['orange', 'banana', 'cherry', 'grape', 'mango']\n"
     ]
    }
   ],
   "source": [
    "# Example of changing elements in a sequence\n",
    "y = [\"apple\", \"banana\", \"cherry\"]\n",
    "y[0] = \"orange\" # this will change the first element in the list to \"orange\"\n",
    "print(y)\n",
    "\n",
    "# add \"grape\" to the end of the list\n",
    "y.append(\"grape\")\n",
    "print(y)\n",
    "y += [\"mango\"] # this is the same as y.append(\"mango\")\n",
    "print(y)"
   ],
   "metadata": {
    "collapsed": false,
    "ExecuteTime": {
     "end_time": "2023-11-17T13:31:52.544007400Z",
     "start_time": "2023-11-17T13:31:52.517688Z"
    }
   },
   "id": "f18d77bc43265b02"
  },
  {
   "cell_type": "code",
   "execution_count": 16,
   "outputs": [],
   "source": [
    "# Given the list below, change the second element to \"pear\" and add \"kiwi\" to the end of the list. Then show the last 3 elements of the list.\n",
    "fruits = [\"Apple\", \"Orange\", \"Tomato\", \"Banana\"] \n"
   ],
   "metadata": {
    "collapsed": false,
    "ExecuteTime": {
     "end_time": "2023-11-17T13:33:48.707876100Z",
     "start_time": "2023-11-17T13:33:48.681622400Z"
    }
   },
   "id": "b1cfa82e696d2b5e"
  },
  {
   "cell_type": "markdown",
   "source": [
    "There are many other methods that can be used on sequences. You can find them [here](https://docs.python.org/3/tutorial/datastructures.html)."
   ],
   "metadata": {
    "collapsed": false
   },
   "id": "9cdecd4226ecccfb"
  },
  {
   "cell_type": "markdown",
   "source": [
    "## Boolean Data Type\n",
    "| Data Type | Description | Example |\n",
    "| --- | --- | --- |\n",
    "| bool | Boolean | `x = True` |\n",
    "### Booleans\n",
    "Booleans are either `True` or `False`. They are used to represent the truth values of logic and comparison operations.\n",
    "Some comparison operators:\n",
    "\n",
    "| Operator | Description | Example |\n",
    "| --- | --- | --- |\n",
    "| == | Equal | `x == y` |\n",
    "| != | Not equal | `x != y` |\n",
    "| > | Greater than | `x > y` |\n",
    "| < | Less than | `x < y` |\n",
    "| >= | Greater than or equal to | `x >= y` |\n",
    "| <= | Less than or equal to | `x <= y` |\n",
    "Some logical operators:\n",
    "\n",
    "| Operator | Description | Example |\n",
    "| --- | --- | --- |\n",
    "| and | True if both statements are true | `x < 5 and x < 10` |\n",
    "| or | True if one of the statements is true | `x < 5 or x < 4` |\n",
    "| not | Reverse the result, returns False if the result is true | `not(x < 5 and x < 10)` |"
   ],
   "metadata": {
    "collapsed": false
   },
   "id": "426addc6d678770c"
  },
  {
   "cell_type": "code",
   "execution_count": null,
   "outputs": [],
   "source": [
    "# Example of boolean data types\n",
    "x = True # bool\n",
    "y = False # bool"
   ],
   "metadata": {
    "collapsed": false
   },
   "id": "9176be5c03ea2b72"
  },
  {
   "cell_type": "code",
   "execution_count": 18,
   "outputs": [
    {
     "name": "stdout",
     "output_type": "stream",
     "text": [
      "False\n",
      "True\n",
      "False\n",
      "True\n"
     ]
    }
   ],
   "source": [
    "# Example of comparison operators\n",
    "x = 5\n",
    "y = 10\n",
    "print(x == y) # prints False\n",
    "print(x != y) # prints True\n",
    "print(x > y) # prints False\n",
    "print(x < y) # prints True\n"
   ],
   "metadata": {
    "collapsed": false,
    "ExecuteTime": {
     "end_time": "2023-11-17T13:38:52.613242300Z",
     "start_time": "2023-11-17T13:38:52.594237100Z"
    }
   },
   "id": "dc6ded974fe6b50a"
  },
  {
   "cell_type": "code",
   "execution_count": 19,
   "outputs": [
    {
     "name": "stdout",
     "output_type": "stream",
     "text": [
      "True\n",
      "True\n",
      "False\n"
     ]
    }
   ],
   "source": [
    "# more complex example of comparison operators\n",
    "x = 5\n",
    "y = 10\n",
    "z = 15\n",
    "print(x < y < z) # prints True\n",
    "print(x < y and y < z) # prints True\n",
    "print(x < y > z) # prints False"
   ],
   "metadata": {
    "collapsed": false,
    "ExecuteTime": {
     "end_time": "2023-11-17T13:39:32.408547800Z",
     "start_time": "2023-11-17T13:39:32.388646700Z"
    }
   },
   "id": "416660532e2417c7"
  },
  {
   "cell_type": "markdown",
   "source": [
    "## Set Data Type\n",
    "| Data Type | Description | Example |\n",
    "| --- | --- | --- |\n",
    "| set | Set | `x = {\"apple\", \"banana\", \"cherry\"}` |\n",
    "### Sets\n",
    "Sets are **unordered** collections of **unique** objects. They are mutable, meaning they can be changed after they are created. Sets are created using curly brackets `{}`."
   ],
   "metadata": {
    "collapsed": false
   },
   "id": "2da310e6e3509626"
  },
  {
   "cell_type": "code",
   "execution_count": null,
   "outputs": [],
   "source": [
    "# Example of set data types\n",
    "x = {\"apple\", \"banana\", \"cherry\"} # set"
   ],
   "metadata": {
    "collapsed": false
   },
   "id": "81439b3a187d86d0"
  },
  {
   "cell_type": "code",
   "execution_count": 21,
   "outputs": [
    {
     "name": "stdout",
     "output_type": "stream",
     "text": [
      "{'apple'}\n",
      "{'google', 'cherry', 'microsoft', 'banana', 'apple'}\n",
      "{'cherry', 'banana'}\n"
     ]
    }
   ],
   "source": [
    "# opperations on sets\n",
    "x = {\"apple\", \"banana\", \"cherry\"}\n",
    "y = {\"google\", \"microsoft\", \"apple\"}\n",
    "print(x.intersection(y)) # prints the intersection of x and y\n",
    "print(x.union(y)) # prints the union of x and y\n",
    "print(x.difference(y)) # prints the difference of x and y"
   ],
   "metadata": {
    "collapsed": false,
    "ExecuteTime": {
     "end_time": "2023-11-17T13:42:03.624688300Z",
     "start_time": "2023-11-17T13:42:03.608347100Z"
    }
   },
   "id": "93adb9116aa11c8c"
  },
  {
   "cell_type": "code",
   "execution_count": 23,
   "outputs": [],
   "source": [
    "# Given the sets below, print what is in set1 but not in set2\n",
    "set1 = {\"2.602.184.255\", \"2.602.124.215\", \"2.601.184.547\", \"2.402.124.215\"}\n",
    "set2 = {\"2.602.184.255\", \"2.602.124.215\", \"2.601.184.547\"}\n"
   ],
   "metadata": {
    "collapsed": false,
    "ExecuteTime": {
     "end_time": "2023-11-17T13:45:27.130991200Z",
     "start_time": "2023-11-17T13:45:27.119978Z"
    }
   },
   "id": "83a01c992cf076f"
  },
  {
   "cell_type": "markdown",
   "source": [
    "## Dictionary Data Type\n",
    "| Data Type | Description | Example |\n",
    "| --- | --- | --- |\n",
    "| dict | Dictionary | `x = {\"name\" : \"John\", \"age\" : 36}` |\n",
    "### Dictionaries\n",
    "Dictionaries are **unordered** collections of **key-value pairs**. They are mutable, meaning they can be changed after they are created. Dictionaries are created using curly brackets `{}`. They are also known as associative arrays or hash tables in other languages. They can access, insert, or delete elements in constant time."
   ],
   "metadata": {
    "collapsed": false
   },
   "id": "73e5deeedd9abc95"
  },
  {
   "cell_type": "code",
   "execution_count": 24,
   "outputs": [
    {
     "name": "stdout",
     "output_type": "stream",
     "text": [
      "John\n"
     ]
    },
    {
     "ename": "KeyError",
     "evalue": "'address'",
     "output_type": "error",
     "traceback": [
      "\u001B[1;31m---------------------------------------------------------------------------\u001B[0m",
      "\u001B[1;31mKeyError\u001B[0m                                  Traceback (most recent call last)",
      "Cell \u001B[1;32mIn[24], line 6\u001B[0m\n\u001B[0;32m      4\u001B[0m \u001B[38;5;28mprint\u001B[39m(x[\u001B[38;5;124m\"\u001B[39m\u001B[38;5;124mname\u001B[39m\u001B[38;5;124m\"\u001B[39m]) \u001B[38;5;66;03m# prints \"John\"\u001B[39;00m\n\u001B[0;32m      5\u001B[0m \u001B[38;5;66;03m# if it doesn't exist, it will throw an error unless you use the get() method\u001B[39;00m\n\u001B[1;32m----> 6\u001B[0m \u001B[38;5;28mprint\u001B[39m(x[\u001B[38;5;124m\"\u001B[39m\u001B[38;5;124maddress\u001B[39m\u001B[38;5;124m\"\u001B[39m]) \u001B[38;5;66;03m# throws an error\u001B[39;00m\n\u001B[0;32m      7\u001B[0m \u001B[38;5;28mprint\u001B[39m(x\u001B[38;5;241m.\u001B[39mget(\u001B[38;5;124m\"\u001B[39m\u001B[38;5;124maddress\u001B[39m\u001B[38;5;124m\"\u001B[39m))\n",
      "\u001B[1;31mKeyError\u001B[0m: 'address'"
     ]
    }
   ],
   "source": [
    "# Example of dictionary data types\n",
    "x = {\"name\" : \"John\", \"age\" : 36} # dict\n",
    "# I can access the value of a key by using indexing\n",
    "print(x[\"name\"]) # prints \"John\"\n",
    "# if it doesn't exist, it will throw an error unless you use the get() method\n",
    "print(x[\"address\"]) # throws an error\n",
    "print(x.get(\"address\")) # prints None"
   ],
   "metadata": {
    "collapsed": false,
    "ExecuteTime": {
     "end_time": "2023-11-17T13:50:13.572195900Z",
     "start_time": "2023-11-17T13:50:13.523968400Z"
    }
   },
   "id": "e0abf5644804d589"
  },
  {
   "cell_type": "code",
   "execution_count": 28,
   "outputs": [
    {
     "ename": "TypeError",
     "evalue": "unhashable type: 'list'",
     "output_type": "error",
     "traceback": [
      "\u001B[1;31m---------------------------------------------------------------------------\u001B[0m",
      "\u001B[1;31mTypeError\u001B[0m                                 Traceback (most recent call last)",
      "Cell \u001B[1;32mIn[28], line 2\u001B[0m\n\u001B[0;32m      1\u001B[0m \u001B[38;5;66;03m# Important to note however, you cannot use unhashable types as keys (such as lists). You can use tuples as keys though.\u001B[39;00m\n\u001B[1;32m----> 2\u001B[0m x \u001B[38;5;241m=\u001B[39m {[\u001B[38;5;124m\"\u001B[39m\u001B[38;5;124mname\u001B[39m\u001B[38;5;124m\"\u001B[39m, \u001B[38;5;124m\"\u001B[39m\u001B[38;5;124mage\u001B[39m\u001B[38;5;124m\"\u001B[39m] : \u001B[38;5;124m\"\u001B[39m\u001B[38;5;124mJohn\u001B[39m\u001B[38;5;124m\"\u001B[39m, \u001B[38;5;124m\"\u001B[39m\u001B[38;5;124mage\u001B[39m\u001B[38;5;124m\"\u001B[39m : \u001B[38;5;241m36\u001B[39m}\n",
      "\u001B[1;31mTypeError\u001B[0m: unhashable type: 'list'"
     ]
    }
   ],
   "source": [
    "# Important to note however, you cannot use unhashable types as keys (such as lists). You can use tuples as keys though. Unhashable types are types that can be changed after they are created.\n",
    "x = {[\"name\", \"age\"] : \"John\", \"age\" : 36} # throws an error"
   ],
   "metadata": {
    "collapsed": false,
    "ExecuteTime": {
     "end_time": "2023-11-17T13:53:24.015444800Z",
     "start_time": "2023-11-17T13:53:23.982397500Z"
    }
   },
   "id": "acc204496944aad7"
  },
  {
   "cell_type": "code",
   "execution_count": 29,
   "outputs": [],
   "source": [
    "x = {(\"name\", \"age\") : \"John\", \"age\" : 36} # works"
   ],
   "metadata": {
    "collapsed": false,
    "ExecuteTime": {
     "end_time": "2023-11-17T13:53:32.249986100Z",
     "start_time": "2023-11-17T13:53:32.217166200Z"
    }
   },
   "id": "570ff40437aebd1c"
  },
  {
   "cell_type": "markdown",
   "source": [
    "# Operators\n",
    "Operators are used to perform operations on variables and values.\n",
    "## There are 7 main types of operators in Python:\n",
    "- Arithmetic Operators\n",
    "- Assignment Operators\n",
    "- Comparison Operators\n",
    "- Logical Operators\n",
    "- Identity Operators\n",
    "- Membership Operators\n",
    "- Bitwise Operators\n"
   ],
   "metadata": {
    "collapsed": false
   },
   "id": "2f35585a77392330"
  },
  {
   "cell_type": "markdown",
   "source": [
    "## Arithmetic Operators\n",
    "| Operator | Name | Description                                                           | Example |\n",
    "| --- | --- |-----------------------------------------------------------------------| --- |\n",
    "| + | Addition | Adds values on either side of the operator                            | `x + y` |\n",
    "| - | Subtraction | Subtracts right hand operand from left hand operand                   | `x - y` |\n",
    "| * | Multiplication | Multiplies values on either side of the operator                      | `x * y` |\n",
    "| / | Division | Divides left hand operand by right hand operand                       | `x / y` |\n",
    "| % | Modulus | Divides left hand operand by right hand operand and returns remainder | `x % y` |\n",
    "| ** | Exponent | Performs exponential (power) calculation on operators                 | `x ** y` |\n",
    "| // | Floor Division | rounds the result down to the nearest whole number                    | `x // y` |"
   ],
   "metadata": {
    "collapsed": false
   },
   "id": "d49b651cbc76695b"
  },
  {
   "cell_type": "code",
   "execution_count": 1,
   "outputs": [
    {
     "name": "stdout",
     "output_type": "stream",
     "text": [
      "7\n",
      "3\n",
      "10\n",
      "2.5\n",
      "1\n",
      "25\n",
      "2\n"
     ]
    }
   ],
   "source": [
    "x = 5\n",
    "y = 2\n",
    "print(x + y) # prints 7\n",
    "print(x - y) # prints 3\n",
    "print(x * y) # prints 10\n",
    "print(x / y) # prints 2.5\n",
    "print(x % y) # prints 1\n",
    "print(x ** y) # prints 25\n",
    "print(x // y) # prints 2"
   ],
   "metadata": {
    "collapsed": false,
    "ExecuteTime": {
     "end_time": "2023-11-20T07:54:09.945026800Z",
     "start_time": "2023-11-20T07:54:09.918317800Z"
    }
   },
   "id": "f835ba6ce78a1835"
  },
  {
   "cell_type": "markdown",
   "source": [
    "## Assignment Operators\n",
    "| Operator | Example | Same As |\n",
    "| --- | --- | --- |\n",
    "| = | `x = 5` | `x = 5` |\n",
    "| += | `x += 5` | `x = x + 5` |\n",
    "| -= | `x -= 5` | `x = x - 5` |\n",
    "| *= | `x *= 5` | `x = x * 5` |\n",
    "| /= | `x /= 5` | `x = x / 5` |\n",
    "| %= | `x %= 5` | `x = x % 5` |\n",
    "| //= | `x //= 5` | `x = x // 5` |\n",
    "| **= | `x **= 5` | `x = x ** 5` |"
   ],
   "metadata": {
    "collapsed": false
   },
   "id": "2811be7442bb195f"
  },
  {
   "cell_type": "code",
   "execution_count": 33,
   "outputs": [
    {
     "name": "stdout",
     "output_type": "stream",
     "text": [
      "10\n",
      "5\n",
      "25\n",
      "5.0\n",
      "1.0\n",
      "9.0\n",
      "81.0\n"
     ]
    }
   ],
   "source": [
    "x = 5\n",
    "x += 5 # same as x = x + 5\n",
    "print(x) # prints 10\n",
    "x -= 5 # same as x = x - 5\n",
    "print(x) # prints 5\n",
    "x *= 5 # same as x = x * 5\n",
    "print(x) # prints 25\n",
    "x /= 5 # same as x = x / 5\n",
    "print(x) # prints 5.0\n",
    "x %= 2 # same as x = x % 2\n",
    "print(x) # prints 1.0\n",
    "x //= 0.1 # same as x = x // 0.1\n",
    "print(x) # prints 9\n",
    "x **= 2 # same as x = x ** 2\n",
    "print(x) # prints 81"
   ],
   "metadata": {
    "collapsed": false,
    "ExecuteTime": {
     "end_time": "2023-11-20T08:03:20.917049400Z",
     "start_time": "2023-11-20T08:03:20.856943800Z"
    }
   },
   "id": "ff1f8939ff7b35e"
  },
  {
   "cell_type": "markdown",
   "source": [
    "## Comparison Operators\n",
    "| Operator | Name | Description |\n",
    "| --- | --- | --- |\n",
    "| == | Equal | True if both operands are equal |\n",
    "| != | Not equal | True if operands are not equal |\n",
    "| > | Greater than | True if left operand is greater than the right operand |\n",
    "| < | Less than | True if left operand is less than the right operand |\n",
    "| >= | Greater than or equal to | True if left operand is greater than or equal to the right operand |\n",
    "| <= | Less than or equal to | True if left operand is less than or equal to the right operand |\n",
    "\n",
    "Talked about in the boolean section above."
   ],
   "metadata": {
    "collapsed": false
   },
   "id": "21a4f0e6203104a"
  },
  {
   "cell_type": "markdown",
   "source": [
    "## Logical Operators\n",
    "| Operator | Description | Example |\n",
    "| --- | --- | --- |\n",
    "| and | True if both operands are true | `x < 5 and x < 10` |\n",
    "| or | True if one of the operands is true | `x < 5 or x < 4` |\n",
    "| not | Reverse the result, returns False if the result is true | `not(x < 5 and x < 10)` |"
   ],
   "metadata": {
    "collapsed": false
   },
   "id": "be4facbedf7767ee"
  },
  {
   "cell_type": "code",
   "execution_count": null,
   "outputs": [],
   "source": [],
   "metadata": {
    "collapsed": false
   },
   "id": "c0e2db4e09c712af"
  },
  {
   "cell_type": "markdown",
   "source": [
    "## Identity Operators\n",
    "| Operator | Description | Example |\n",
    "| --- | --- | --- |\n",
    "| is | True if both operands are the same object | `x is y` |\n",
    "| is not | True if both operands are not the same object | `x is not y` |"
   ],
   "metadata": {
    "collapsed": false
   },
   "id": "57dfe2958e0acd3b"
  },
  {
   "cell_type": "code",
   "execution_count": null,
   "outputs": [],
   "source": [],
   "metadata": {
    "collapsed": false
   },
   "id": "d6e54f14f4103554"
  },
  {
   "cell_type": "markdown",
   "source": [
    "## Membership Operators\n",
    "| Operator | Description | Example |\n",
    "| --- | --- | --- |\n",
    "| in | True if value is found in the sequence | `x in y` |\n",
    "| not in | True if value is not found in the sequence | `x not in y` |"
   ],
   "metadata": {
    "collapsed": false
   },
   "id": "73ec8ad65f0b57dc"
  },
  {
   "cell_type": "code",
   "execution_count": null,
   "outputs": [],
   "source": [],
   "metadata": {
    "collapsed": false
   },
   "id": "75c0745cb84186e9"
  },
  {
   "cell_type": "markdown",
   "source": [
    "## Bitwise Operators\n",
    "| Operator | Description | Example |\n",
    "| --- | --- | --- |\n",
    "| & | AND | `x & y` |\n",
    "| \\| | OR | `x \\| y` |\n",
    "| ~ | NOT | `~x` |\n",
    "| ^ | XOR | `x ^ y` |\n",
    "| >> | Right shift | `x >> y` |\n",
    "| << | Left shift | `x << y` |\n",
    "\n",
    "Used for manipulating bits in binary numbers. We will not be covering this in this tutorial."
   ],
   "metadata": {
    "collapsed": false
   },
   "id": "60b4f4993633378e"
  },
  {
   "cell_type": "code",
   "execution_count": 43,
   "outputs": [
    {
     "name": "stdout",
     "output_type": "stream",
     "text": [
      "0b1000\n",
      "0b1110\n",
      "-0b1011\n",
      "0b110\n",
      "0b10\n",
      "0b101000\n"
     ]
    }
   ],
   "source": [
    "# bitwise operators example\n",
    "x = 0b1010 # 10\n",
    "y = 0b1100 # 12\n",
    "print(bin(x & y)) # prints 0b1000 sets each bit to 1 if both bits are 1\n",
    "\n",
    "print(bin(x | y)) # prints 0b1110 sets each bit to 1 if one of two bits is 1\n",
    "\n",
    "print(bin(~x)) # prints -0b1011 inverts all the bits\n",
    "\n",
    "print(bin(x ^ y)) # prints 0b110 sets each bit to 1 if only one of two bits is 1\n",
    "\n",
    "print(bin(x >> 2)) # prints 0b10 shifts bits to the right by 2 places\n",
    "\n",
    "print(bin(x << 2)) # prints 0b101000 shifts bits to the left by 2 places\n"
   ],
   "metadata": {
    "collapsed": false,
    "ExecuteTime": {
     "end_time": "2023-11-20T08:10:23.358492300Z",
     "start_time": "2023-11-20T08:10:23.344982100Z"
    }
   },
   "id": "af4eab3034fb5c68"
  },
  {
   "cell_type": "markdown",
   "source": [],
   "metadata": {
    "collapsed": false
   },
   "id": "d6bdc1e49df32c0e"
  },
  {
   "cell_type": "markdown",
   "source": [
    "# Conditional Statements\n",
    "Conditional statements are used to perform different actions based on different conditions.\n",
    "## There are 3 main types of conditional statements in Python:\n",
    "- If statements\n",
    "- If-else statements\n",
    "- If-elif-else statements"
   ],
   "metadata": {
    "collapsed": false
   },
   "id": "232309f44934138f"
  },
  {
   "cell_type": "code",
   "execution_count": 44,
   "outputs": [
    {
     "name": "stdout",
     "output_type": "stream",
     "text": [
      "x is positive\n"
     ]
    }
   ],
   "source": [
    "# Example of if statement\n",
    "x = 5\n",
    "if x > 0:\n",
    "    print(\"x is positive\")"
   ],
   "metadata": {
    "collapsed": false,
    "ExecuteTime": {
     "end_time": "2023-11-20T08:13:09.430348Z",
     "start_time": "2023-11-20T08:13:09.401608300Z"
    }
   },
   "id": "9a8f8f71d93ec6a"
  },
  {
   "cell_type": "code",
   "execution_count": 47,
   "outputs": [
    {
     "name": "stdout",
     "output_type": "stream",
     "text": [
      "x is negative\n"
     ]
    }
   ],
   "source": [
    "# Example of if-else statement\n",
    "x = -1000\n",
    "if x > 0:\n",
    "    print(\"x is positive\")\n",
    "else:\n",
    "    print(\"x is negative\")"
   ],
   "metadata": {
    "collapsed": false,
    "ExecuteTime": {
     "end_time": "2023-11-20T08:13:21.013150100Z",
     "start_time": "2023-11-20T08:13:20.970157300Z"
    }
   },
   "id": "158d81aa97360fa"
  },
  {
   "cell_type": "code",
   "execution_count": 48,
   "outputs": [
    {
     "name": "stdout",
     "output_type": "stream",
     "text": [
      "x is zero\n"
     ]
    }
   ],
   "source": [
    "# Example of if-elif-else statement\n",
    "x = 0\n",
    "if x > 0:\n",
    "    print(\"x is positive\")\n",
    "elif x == 0:\n",
    "    print(\"x is zero\")\n",
    "else:\n",
    "    print(\"x is negative\")"
   ],
   "metadata": {
    "collapsed": false,
    "ExecuteTime": {
     "end_time": "2023-11-20T08:13:28.120152200Z",
     "start_time": "2023-11-20T08:13:28.094551300Z"
    }
   },
   "id": "174719e07e7d9d59"
  },
  {
   "cell_type": "markdown",
   "source": [
    "# Loops\n",
    "Loops are used to iterate over a sequence of elements.\n",
    "## There are 2 main types of loops in Python:\n",
    "- For loops\n",
    "- While loops"
   ],
   "metadata": {
    "collapsed": false
   },
   "id": "568c07f24db045f6"
  },
  {
   "cell_type": "code",
   "execution_count": 50,
   "outputs": [
    {
     "name": "stdout",
     "output_type": "stream",
     "text": [
      "0\n",
      "1\n",
      "2\n",
      "3\n",
      "4\n"
     ]
    }
   ],
   "source": [
    "# Example of for loop\n",
    "for i in range(5):\n",
    "    print(i)\n",
    "# what does range(5) do? Try printing it out"
   ],
   "metadata": {
    "collapsed": false,
    "ExecuteTime": {
     "end_time": "2023-11-20T08:14:35.242409300Z",
     "start_time": "2023-11-20T08:14:35.208893400Z"
    }
   },
   "id": "dff57c6050484f7b"
  },
  {
   "cell_type": "code",
   "execution_count": 52,
   "outputs": [
    {
     "name": "stdout",
     "output_type": "stream",
     "text": [
      "0\n",
      "1\n",
      "2\n",
      "3\n",
      "4\n"
     ]
    }
   ],
   "source": [
    "# Example of while loop\n",
    "i = 0\n",
    "while i < 5:\n",
    "    print(i)\n",
    "    i += 1\n",
    "# Why might you use a while loop over a for loop?"
   ],
   "metadata": {
    "collapsed": false,
    "ExecuteTime": {
     "end_time": "2023-11-20T08:15:56.322788500Z",
     "start_time": "2023-11-20T08:15:56.291677200Z"
    }
   },
   "id": "82e6bd3fbc47eaba"
  },
  {
   "cell_type": "markdown",
   "source": [
    "## Break and Continue\n",
    "- `break` is used to exit a loop\n",
    "- `continue` is used to skip the current iteration of a loop"
   ],
   "metadata": {
    "collapsed": false
   },
   "id": "13ea1c55a4a4fdcb"
  },
  {
   "cell_type": "code",
   "execution_count": 57,
   "outputs": [
    {
     "name": "stdout",
     "output_type": "stream",
     "text": [
      "1\n",
      "2\n",
      "3\n",
      "4\n"
     ]
    }
   ],
   "source": [
    "for i in range(1,10):\n",
    "    if i % 5 == 0:\n",
    "        break\n",
    "    print(i)"
   ],
   "metadata": {
    "collapsed": false,
    "ExecuteTime": {
     "end_time": "2023-11-20T08:18:24.676801100Z",
     "start_time": "2023-11-20T08:18:24.659960500Z"
    }
   },
   "id": "75139ec0f003afcb"
  },
  {
   "cell_type": "markdown",
   "source": [
    "## Nested Loops\n",
    "Loops can be nested inside other loops."
   ],
   "metadata": {
    "collapsed": false
   },
   "id": "2d44f3bb46e41d30"
  },
  {
   "cell_type": "code",
   "execution_count": 60,
   "outputs": [
    {
     "name": "stdout",
     "output_type": "stream",
     "text": [
      "0 0\n",
      "0 1\n",
      "0 2\n",
      "0 3\n",
      "0 4\n",
      "1 0\n",
      "1 1\n",
      "1 2\n",
      "1 3\n",
      "1 4\n",
      "2 0\n",
      "2 1\n",
      "2 2\n",
      "2 3\n",
      "2 4\n",
      "3 0\n",
      "3 1\n",
      "3 2\n",
      "3 3\n",
      "3 4\n",
      "4 0\n",
      "4 1\n",
      "4 2\n",
      "4 3\n",
      "4 4\n"
     ]
    }
   ],
   "source": [
    "for i in range(5):\n",
    "    for j in range(5):\n",
    "        print(i, j)"
   ],
   "metadata": {
    "collapsed": false,
    "ExecuteTime": {
     "end_time": "2023-11-20T08:19:41.076395200Z",
     "start_time": "2023-11-20T08:19:41.036026100Z"
    }
   },
   "id": "2f026bbf2e1a7b58"
  },
  {
   "cell_type": "code",
   "execution_count": 68,
   "outputs": [
    {
     "name": "stdout",
     "output_type": "stream",
     "text": [
      "*****\n"
     ]
    }
   ],
   "source": [
    "## Challenge\n",
    "# Print out the following pattern using nested loops\n",
    "#      *\n",
    "#     ***\n",
    "#    *****\n",
    "#   *******\n",
    "#      |\n",
    "# Remember, you can multiply strings by a number to repeat them\n",
    "print(\"*\" * 5)"
   ],
   "metadata": {
    "collapsed": false,
    "ExecuteTime": {
     "end_time": "2023-11-20T08:29:30.835319100Z",
     "start_time": "2023-11-20T08:29:30.809476800Z"
    }
   },
   "id": "d5c6e637fd54b8e5"
  },
  {
   "cell_type": "code",
   "execution_count": 62,
   "outputs": [
    {
     "name": "stdout",
     "output_type": "stream",
     "text": [
      "Hello World\n"
     ]
    }
   ],
   "source": [
    "# Hint: you can print multiple times on the same line by using the end parameter in the print function\n",
    "print(\"Hello\", end=\" \")\n",
    "print(\"World\")"
   ],
   "metadata": {
    "collapsed": false,
    "ExecuteTime": {
     "end_time": "2023-11-20T08:21:21.351498200Z",
     "start_time": "2023-11-20T08:21:21.280370Z"
    }
   },
   "id": "82bc55967e282ee0"
  },
  {
   "cell_type": "code",
   "execution_count": null,
   "outputs": [],
   "source": [
    "## Challenge\n",
    "# Print out the febonacci sequence up to the 10th term"
   ],
   "metadata": {
    "collapsed": false
   },
   "id": "5ca241ac85506337"
  }
 ],
 "metadata": {
  "kernelspec": {
   "display_name": "Python 3",
   "language": "python",
   "name": "python3"
  },
  "language_info": {
   "codemirror_mode": {
    "name": "ipython",
    "version": 2
   },
   "file_extension": ".py",
   "mimetype": "text/x-python",
   "name": "python",
   "nbconvert_exporter": "python",
   "pygments_lexer": "ipython2",
   "version": "2.7.6"
  }
 },
 "nbformat": 4,
 "nbformat_minor": 5
}
# %% [markdown]
# # Python Functions
# 
# In this module, we'll dive into the world of Python functions. You'll learn about what functions are, how to create and use them, and the basics of parameters and return values. Let's begin our journey into efficient and organized coding!

# %% [markdown]
# ## Lesson 1.1: Basic Function Syntax
# 
# ### 1.1.1 What is a Function in Python?
# - **Definition**: A reusable block of code designed to perform a specific task.
# - **Purpose**: Functions help make our code more organized, manageable, and reusable.

# %% [markdown]
# ### 1.1.2 Defining Functions
# - **Syntax**: `def function_name():`
# - Functions are defined using the `def` keyword, followed by the function name and parentheses.

# %%
# Example of defining and calling a function
def display_accessory_options():
    print("Available Drill Bits: Masonry, Wood, Metal")

display_accessory_options()

# %% [markdown]
# ## Lesson 1.2: Parameters and Return Values
# 
# In this lesson, we'll see how functions can take in data (parameters) and return results.
# 
# ### 1.2.1 Using Parameters
# - Parameters allow us to pass data into a function.
# - They act as placeholders that get replaced with actual values when the function is called.
# 
# ### 1.2.2 Return Values
# - Functions can send back, or return, a result to the caller using the `return` statement.

# %%
# Function with parameters and return value
def calculate_optimal_speed(bit_type):
    if bit_type == 'Masonry':
        return 1500
    elif bit_type == 'Metal':
        return 1800
    else:
        return 1000

optimal_speed = calculate_optimal_speed('Masonry')
print(f"Optimal Speed for Masonry Drill Bit: {optimal_speed} RPM")

# %% [markdown]
# ## Lesson 1.3: Function Scope and Documentation
# 
# ### 1.3.1 Understanding Scope
# - **Local Scope**: Variables defined inside a function are accessible only within that function.
# - **Global Scope**: Variables defined outside any function can be accessed anywhere in your code.

# %% [markdown]
# ### 1.3.2 Documenting Functions
# - **Docstrings**: Multiline comments that explain the function's purpose, parameters, and return value.
# 
# Let's document our functions for better clarity and maintenance!

# %%
# Documenting a function with a docstring
def calculate_torque(bit_type, diameter):
    '''
    Calculates the recommended torque for a drill bit.
    
    Parameters:
    bit_type (str): The type of drill bit (e.g., 'Masonry', 'Metal').
    diameter (int): The diameter of the drill bit in millimeters.

    Returns:
    int: Recommended torque setting in Newton-meters.
    '''
    # Function implementation...

# Viewing the docstring
print(calculate_torque.__doc__)

# %% [markdown]
# # Exploring Python Classes and Objects
# 
# ## Introduction
# Classes and objects are foundational concepts in Python and many other programming languages. They allow you to structure your program in a way that is both manageable and reusable. Think of a class as a blueprint for creating something. This 'something' is known as an object, which is an instance of a class.
# 

# %% [markdown]
# ## Lesson 2.1: Defining Classes and Creating Objects
# 
# ### 2.1.1 What is a Class?
# - A class is a blueprint or template for creating objects.
# - It defines a set of attributes (characteristics, like size or color) and methods (actions, like calculating something or displaying data) that the objects created from the class can have.
# 
# ### 2.1.2 Creating Classes
# - To create a class in Python, you use the class keyword.
# - An example could be a DrillBit class, where each drill bit has properties like size and type.
# 
# ### 2.1.3 Instantiating Objects
# - Instantiation is when you create an instance of a class, which is an actual object created from the class's blueprint.
# - For instance, creating a DrillBit object with a specific size and type.

# %%
# Example: Defining a DrillBit class
class DrillBit:
    def __init__(self, size, type):
        self.size = size
        self.type = type

# Creating an instance of DrillBit
my_drill_bit = DrillBit(size="8mm", type="Masonry")
print(f"Created a {my_drill_bit.type} drill bit of size {my_drill_bit.size}.")


# %% [markdown]
# ### Exercise 2.1
# Create a class `BatteryPack` with attributes `capacity` (in Ah) and `voltage` (in volts). Then, instantiate an object of this class with specific values and print its attributes.
# 

# %% [markdown]
# ## Lesson 2.2: Methods in Classes
# 
# ### 2.2.1 What are Methods?
# - Methods are functions defined within a class. They describe the behaviors of an object.
# - A method might act on the data contained in an object or perform a task related to the object.
# ### 2.2.2 Writing Methods
# - You define methods inside a class, similar to how you define functions, but they are associated with the class's objects.
# - For example, adding a method to the DrillBit class that displays its size and type.
# 
# ### 2.2.3 Using Methods
# - Methods are called on class objects and can take parameters and return values.
# 

# %%
# Enhancing the DrillBit class with a method
class DrillBit:
    def __init__(self, size, type):
        self.size = size
        self.type = type

    def display_info(self):
        print(f"Drill Bit - Size: {self.size}, Type: {self.type}")

# Creating an instance and using a method
my_drill_bit = DrillBit("10mm", "Metal")
my_drill_bit.display_info()


# %% [markdown]
# ### Exercise 2.2
# Add a method `change_capacity` to the `BatteryPack` class that allows changing the capacity of the battery. Create an object of `BatteryPack` and demonstrate changing its capacity.
# 

# %% [markdown]
# ## Lesson 2.3: Class Variables and Instance Variables
# 
# ### 2.3.1 Class Variables vs Instance Variables
# - **Class Variables** are shared across all instances of a class. They have the same value for every object.
# - **Instance Variables** are unique to each instance of a class. Each object can have different values for these variables.
# 
# ### 2.3.2 Using Class and Instance Variables
# - **Application**: Class variables are used for properties that should be the same for every class instance, while instance variables hold data unique to each object.
# 

# %%
# Demonstrating Class Variables and Instance Variables
class SawBlade:
    material_types = ["Wood", "Metal", "Plastic"]  # Class Variable

    def __init__(self, diameter, material):
        self.diameter = diameter  # Instance Variable
        self.material = material  # Instance Variable

    def display_info(self):
        print(f"Saw Blade - Diameter: {self.diameter}, Material: {self.material}")

# Creating an instance of SawBlade
my_saw_blade = SawBlade(250, "Wood")
my_saw_blade.display_info()
print("Available Materials:", SawBlade.material_types)


# %% [markdown]
# ### Exercise 2.3
# Create a class `PowerTool` with a class variable `tool_types` listing different types of tools (e.g., "Drill", "Saw"). Add instance variables like `model` and `power_source`. Instantiate a couple of objects and display their details along with the shared class variable.
# 

# %% [markdown]
# # Understanding Modules in Python
# 
# In this module, we will explore Python modules. Modules are like toolboxes that contain a set of functions, classes, or variables you can include in your projects. Understanding modules is key to writing clean, efficient, and reusable code.
# 

# %% [markdown]
# ## Lesson 3.1: Creating and Using Modules
# 
# ### What is a Module?
# - A module is a Python file containing a set of functions, classes, and variables.
# - Modules help organize your Python code into manageable parts.
# 
# ### Creating Modules
# - Any Python file saved with a `.py` extension can be a module.
# - For example, a module named `tool_accessories.py` can include classes like `DrillBit` and `BatteryPack`.
# 
# ### Importing Modules
# - Use the `import` statement to include a module's content in another Python script.
# - You can import an entire module or specific elements from it.
# 

# %%
# Example of importing a module
# Assuming we have a module 'tool_accessories.py' with a class 'DrillBit'

import tool_accessories

# Creating an object from the imported module
my_drill_bit = tool_accessories.DrillBit(size="8mm", type="Masonry")


# %% [markdown]
# ### Exercise 3.1
# Create a new Python file named `battery_pack.py` and define the `BatteryPack` class in it. Then, write a script here to import your new module and create an instance of `BatteryPack`.
# 

# %% [markdown]
# ## Lesson 3.2: Organizing Code with Modules
# 
# Modules are not just for code reuse; they also help in structuring your Python program.
# 
# ### Structuring a Module
# - Group related functionalities into a single module.
# - For instance, a module `tool_utils.py` can include related classes and functions.
# 
# ### Best Practices
# - Use descriptive names for modules.
# - Keep modules focused on specific functionalities.
# 

# %%
# Assume we have a module 'tool_utils.py' with several tool-related classes and functions

# Importing the module
import tool_utils

# Using a function from the imported module
optimal_speed = tool_utils.calculate_optimal_speed('Metal')
print(f"Optimal Speed: {optimal_speed}")


# %% [markdown]
# ### Exercise 3.2
# Create a module named `saw_blade_utils.py` with a `SawBlade` class and a function `calculate_cutting_speed`. Then, in a new script, import this module and use its class and function.
# 

# %% [markdown]
# ## Lesson 3.3: Python Standard Library and External Modules
# 
# Python comes with a rich set of modules known as the Standard Library. Additionally, you can install external modules using tools like `pip`.
# 
# ### Python Standard Library
# - A collection of modules that come pre-installed with Python.
# - Offers a wide range of functionalities, from math to file handling.
# 
# ### External Modules
# - Modules that you can install using package managers like `pip`.
# - Extend Python's functionality.
# 

# %%
# Using a module from the Python Standard Library
import math

# Example usage of a function from the math module
print(f"The square root of 16 is {math.sqrt(16)}")


# %% [markdown]
# ### Exercise 3.3
# Use a function from the `datetime` module of the Python Standard Library. Then, install an external module using pip (for example, `requests`) and demonstrate one of its basic functionalities.
# 

# %% [markdown]
# # Introduction to Python Packages and `pip`
# 
# In this module, we'll explore Python packages, including how to manage them using `pip`, Python's package installer. Understanding packages and `pip` is essential for leveraging external libraries and tools in Python, greatly expanding the capabilities of your programs.
# 

# %% [markdown]
# ## Lesson 4.1: What are Python Packages?
# 
# Packages in Python are a way of organizing and distributing Python code. Think of a package as a directory that contains files (modules) and a special file named `__init__.py`.
# 
# ### Python Packages
# - A package is a collection of Python modules.
# - It's a directory that contains one or more modules and a `__init__.py` file.
# - Packages help in structuring Python code more efficiently.
# 
# ### Using Python Packages
# - You can import packages in your Python scripts similar to how you import modules.
# - Packages allow for a hierarchical structuring of the module namespace.
# 

# %%
# Example of importing a package
# Assuming we have a package named 'power_tools' with a module 'drills'

import power_tools.drills

# Using a class from the imported package
my_drill = power_tools.drills.Drill(model="DrillMaster 3000")
print(f"Created a drill: {my_drill.model}")


# %% [markdown]
# ### Exercise 4.1
# Create a simple package named `hand_tools` with a module `hammers`. Define a class `Hammer` in it with an attribute `type`. Then, import this package and create an instance of `Hammer`.
# 

# %% [markdown]
# ## Lesson 4.2: Using `pip` for Installing Python Packages
# 
# `pip` is a package manager for Python, allowing you to install and manage additional packages that are not part of the Python Standard Library.
# 
# ### Introduction to `pip`
# - `pip` stands for "Pip Installs Packages."
# - It downloads packages from the Python Package Index (PyPI) and other indexes.
# 
# ### Installing Packages with `pip`
# - You can use `pip` to install, update, and remove Python packages.
# - Common command: `pip install package_name`
# 
# ### Finding Packages
# - Explore [PyPI](https://pypi.org/) to find various Python packages that you can install using `pip`.
# 
