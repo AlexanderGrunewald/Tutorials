{
 "cells": [
  {
   "cell_type": "markdown",
   "id": "ec86ea26",
   "metadata": {},
   "source": [
    "# Python Functions\n",
    "\n",
    "In this module, we'll dive into the world of Python functions. You'll learn about what functions are, how to create and use them, and the basics of parameters and return values. Let's begin our journey into efficient and organized coding!"
   ]
  },
  {
   "cell_type": "markdown",
   "id": "10ddba70",
   "metadata": {},
   "source": [
    "## Lesson 1.1: Basic Function Syntax\n",
    "\n",
    "### 1.1.1 What is a Function in Python?\n",
    "- **Definition**: A reusable block of code designed to perform a specific task.\n",
    "- **Purpose**: Functions help make our code more organized, manageable, and reusable."
   ]
  },
  {
   "cell_type": "markdown",
   "metadata": {},
   "source": [
    "### 1.1.2 Defining Functions\n",
    "- **Syntax**: `def function_name():`\n",
    "- Functions are defined using the `def` keyword, followed by the function name and parentheses."
   ]
  },
  {
   "cell_type": "code",
   "execution_count": 6,
   "id": "d447f8da",
   "metadata": {},
   "outputs": [
    {
     "name": "stdout",
     "output_type": "stream",
     "text": [
      "Available Drill Bits: Masonry, Wood, Metal\n"
     ]
    }
   ],
   "source": [
    "# Example of defining and calling a function\n",
    "def display_accessory_options():\n",
    "    print(\"Available Drill Bits: Masonry, Wood, Metal\")\n",
    "\n",
    "display_accessory_options()"
   ]
  },
  {
   "cell_type": "markdown",
   "id": "9edbf43f",
   "metadata": {},
   "source": [
    "## Lesson 1.2: Parameters and Return Values\n",
    "\n",
    "In this lesson, we'll see how functions can take in data (parameters) and return results.\n",
    "\n",
    "### 1.2.1 Using Parameters\n",
    "- Parameters allow us to pass data into a function.\n",
    "- They act as placeholders that get replaced with actual values when the function is called.\n",
    "\n",
    "### 1.2.2 Return Values\n",
    "- Functions can send back, or return, a result to the caller using the `return` statement."
   ]
  },
  {
   "cell_type": "code",
   "execution_count": null,
   "metadata": {},
   "outputs": [],
   "source": [
    "# Function with parameters and return value\n",
    "def calculate_optimal_speed(bit_type):\n",
    "    if bit_type == 'Masonry':\n",
    "        return 1500\n",
    "    elif bit_type == 'Metal':\n",
    "        return 1800\n",
    "    else:\n",
    "        return 1000\n",
    "\n",
    "optimal_speed = calculate_optimal_speed('Masonry')\n",
    "print(f\"Optimal Speed for Masonry Drill Bit: {optimal_speed} RPM\")"
   ]
  },
  {
   "cell_type": "markdown",
   "id": "560130db",
   "metadata": {},
   "source": [
    "## Lesson 1.3: Function Scope and Documentation\n",
    "\n",
    "### 1.3.1 Understanding Scope\n",
    "- **Local Scope**: Variables defined inside a function are accessible only within that function.\n",
    "- **Global Scope**: Variables defined outside any function can be accessed anywhere in your code."
   ]
  },
  {
   "cell_type": "markdown",
   "metadata": {},
   "source": [
    "### 1.3.2 Documenting Functions\n",
    "- **Docstrings**: Multiline comments that explain the function's purpose, parameters, and return value.\n",
    "\n",
    "Let's document our functions for better clarity and maintenance!"
   ]
  },
  {
   "cell_type": "code",
   "execution_count": 4,
   "id": "51c0bc41",
   "metadata": {},
   "outputs": [
    {
     "name": "stdout",
     "output_type": "stream",
     "text": [
      "\n",
      "    Calculates the recommended torque for a drill bit.\n",
      "    \n",
      "    Parameters:\n",
      "    bit_type (str): The type of drill bit (e.g., 'Masonry', 'Metal').\n",
      "    diameter (int): The diameter of the drill bit in millimeters.\n",
      "\n",
      "    Returns:\n",
      "    int: Recommended torque setting in Newton-meters.\n",
      "    \n"
     ]
    }
   ],
   "source": [
    "# Documenting a function with a docstring\n",
    "def calculate_torque(bit_type, diameter):\n",
    "    '''\n",
    "    Calculates the recommended torque for a drill bit.\n",
    "    \n",
    "    Parameters:\n",
    "    bit_type (str): The type of drill bit (e.g., 'Masonry', 'Metal').\n",
    "    diameter (int): The diameter of the drill bit in millimeters.\n",
    "\n",
    "    Returns:\n",
    "    int: Recommended torque setting in Newton-meters.\n",
    "    '''\n",
    "    # Function implementation...\n",
    "\n",
    "# Viewing the docstring\n",
    "print(calculate_torque.__doc__)"
   ]
  },
  {
   "cell_type": "markdown",
   "metadata": {},
   "source": [
    "# Exploring Python Classes and Objects\n",
    "\n",
    "## Introduction\n",
    "Classes and objects are foundational concepts in Python and many other programming languages. They allow you to structure your program in a way that is both manageable and reusable. Think of a class as a blueprint for creating something. This 'something' is known as an object, which is an instance of a class.\n"
   ]
  },
  {
   "cell_type": "markdown",
   "metadata": {},
   "source": [
    "## Lesson 2.1: Defining Classes and Creating Objects\n",
    "\n",
    "### 2.1.1 What is a Class?\n",
    "- A class is a blueprint or template for creating objects.\n",
    "- It defines a set of attributes (characteristics, like size or color) and methods (actions, like calculating something or displaying data) that the objects created from the class can have.\n",
    "\n",
    "### 2.1.2 Creating Classes\n",
    "- To create a class in Python, you use the class keyword.\n",
    "- An example could be a DrillBit class, where each drill bit has properties like size and type.\n",
    "\n",
    "### 2.1.3 Instantiating Objects\n",
    "- Instantiation is when you create an instance of a class, which is an actual object created from the class's blueprint.\n",
    "- For instance, creating a DrillBit object with a specific size and type."
   ]
  },
  {
   "cell_type": "code",
   "execution_count": 8,
   "metadata": {},
   "outputs": [
    {
     "name": "stdout",
     "output_type": "stream",
     "text": [
      "Created a Masonry drill bit of size 8mm.\n"
     ]
    }
   ],
   "source": [
    "# Example: Defining a DrillBit class\n",
    "class DrillBit:\n",
    "    def __init__(self, size, type):\n",
    "        self.size = size\n",
    "        self.type = type\n",
    "\n",
    "# Creating an instance of DrillBit\n",
    "my_drill_bit = DrillBit(size=\"8mm\", type=\"Masonry\")\n",
    "print(f\"Created a {my_drill_bit.type} drill bit of size {my_drill_bit.size}.\")\n"
   ]
  },
  {
   "cell_type": "markdown",
   "metadata": {},
   "source": [
    "### Exercise 2.1\n",
    "Create a class `BatteryPack` with attributes `capacity` (in Ah) and `voltage` (in volts). Then, instantiate an object of this class with specific values and print its attributes.\n"
   ]
  },
  {
   "cell_type": "markdown",
   "metadata": {},
   "source": [
    "## Lesson 2.2: Methods in Classes\n",
    "\n",
    "### 2.2.1 What are Methods?\n",
    "- Methods are functions defined within a class. They describe the behaviors of an object.\n",
    "- A method might act on the data contained in an object or perform a task related to the object.\n",
    "### 2.2.2 Writing Methods\n",
    "- You define methods inside a class, similar to how you define functions, but they are associated with the class's objects.\n",
    "- For example, adding a method to the DrillBit class that displays its size and type.\n",
    "\n",
    "### 2.2.3 Using Methods\n",
    "- Methods are called on class objects and can take parameters and return values.\n"
   ]
  },
  {
   "cell_type": "code",
   "execution_count": null,
   "metadata": {},
   "outputs": [],
   "source": [
    "# Enhancing the DrillBit class with a method\n",
    "class DrillBit:\n",
    "    def __init__(self, size, type):\n",
    "        self.size = size\n",
    "        self.type = type\n",
    "\n",
    "    def display_info(self):\n",
    "        print(f\"Drill Bit - Size: {self.size}, Type: {self.type}\")\n",
    "\n",
    "# Creating an instance and using a method\n",
    "my_drill_bit = DrillBit(\"10mm\", \"Metal\")\n",
    "my_drill_bit.display_info()\n"
   ]
  },
  {
   "cell_type": "markdown",
   "metadata": {},
   "source": [
    "### Exercise 2.2\n",
    "Add a method `change_capacity` to the `BatteryPack` class that allows changing the capacity of the battery. Create an object of `BatteryPack` and demonstrate changing its capacity.\n"
   ]
  },
  {
   "cell_type": "markdown",
   "metadata": {},
   "source": [
    "## Lesson 2.3: Class Variables and Instance Variables\n",
    "\n",
    "### 2.3.1 Class Variables vs Instance Variables\n",
    "- **Class Variables** are shared across all instances of a class. They have the same value for every object.\n",
    "- **Instance Variables** are unique to each instance of a class. Each object can have different values for these variables.\n",
    "\n",
    "### 2.3.2 Using Class and Instance Variables\n",
    "- **Application**: Class variables are used for properties that should be the same for every class instance, while instance variables hold data unique to each object.\n"
   ]
  },
  {
   "cell_type": "code",
   "execution_count": null,
   "metadata": {},
   "outputs": [],
   "source": [
    "# Demonstrating Class Variables and Instance Variables\n",
    "class SawBlade:\n",
    "    material_types = [\"Wood\", \"Metal\", \"Plastic\"]  # Class Variable\n",
    "\n",
    "    def __init__(self, diameter, material):\n",
    "        self.diameter = diameter  # Instance Variable\n",
    "        self.material = material  # Instance Variable\n",
    "\n",
    "    def display_info(self):\n",
    "        print(f\"Saw Blade - Diameter: {self.diameter}, Material: {self.material}\")\n",
    "\n",
    "# Creating an instance of SawBlade\n",
    "my_saw_blade = SawBlade(250, \"Wood\")\n",
    "my_saw_blade.display_info()\n",
    "print(\"Available Materials:\", SawBlade.material_types)\n"
   ]
  },
  {
   "cell_type": "markdown",
   "metadata": {},
   "source": [
    "### Exercise 2.3\n",
    "Create a class `PowerTool` with a class variable `tool_types` listing different types of tools (e.g., \"Drill\", \"Saw\"). Add instance variables like `model` and `power_source`. Instantiate a couple of objects and display their details along with the shared class variable.\n"
   ]
  },
  {
   "cell_type": "markdown",
   "metadata": {},
   "source": [
    "# Understanding Modules in Python\n",
    "\n",
    "In this module, we will explore Python modules. Modules are like toolboxes that contain a set of functions, classes, or variables you can include in your projects. Understanding modules is key to writing clean, efficient, and reusable code.\n"
   ]
  },
  {
   "cell_type": "markdown",
   "metadata": {},
   "source": [
    "## Lesson 3.1: Creating and Using Modules\n",
    "\n",
    "### What is a Module?\n",
    "- A module is a Python file containing a set of functions, classes, and variables.\n",
    "- Modules help organize your Python code into manageable parts.\n",
    "\n",
    "### Creating Modules\n",
    "- Any Python file saved with a `.py` extension can be a module.\n",
    "- For example, a module named `tool_accessories.py` can include classes like `DrillBit` and `BatteryPack`.\n",
    "\n",
    "### Importing Modules\n",
    "- Use the `import` statement to include a module's content in another Python script.\n",
    "- You can import an entire module or specific elements from it.\n"
   ]
  },
  {
   "cell_type": "code",
   "execution_count": null,
   "metadata": {},
   "outputs": [],
   "source": [
    "# Example of importing a module\n",
    "# Assuming we have a module 'tool_accessories.py' with a class 'DrillBit'\n",
    "\n",
    "import tool_accessories\n",
    "\n",
    "# Creating an object from the imported module\n",
    "my_drill_bit = tool_accessories.DrillBit(size=\"8mm\", type=\"Masonry\")\n"
   ]
  },
  {
   "cell_type": "markdown",
   "metadata": {},
   "source": [
    "### Exercise 3.1\n",
    "Create a new Python file named `battery_pack.py` and define the `BatteryPack` class in it. Then, write a script here to import your new module and create an instance of `BatteryPack`.\n"
   ]
  },
  {
   "cell_type": "markdown",
   "metadata": {},
   "source": [
    "## Lesson 3.2: Organizing Code with Modules\n",
    "\n",
    "Modules are not just for code reuse; they also help in structuring your Python program.\n",
    "\n",
    "### Structuring a Module\n",
    "- Group related functionalities into a single module.\n",
    "- For instance, a module `tool_utils.py` can include related classes and functions.\n",
    "\n",
    "### Best Practices\n",
    "- Use descriptive names for modules.\n",
    "- Keep modules focused on specific functionalities.\n"
   ]
  },
  {
   "cell_type": "code",
   "execution_count": null,
   "metadata": {},
   "outputs": [],
   "source": [
    "# Assume we have a module 'tool_utils.py' with several tool-related classes and functions\n",
    "\n",
    "# Importing the module\n",
    "import tool_utils\n",
    "\n",
    "# Using a function from the imported module\n",
    "optimal_speed = tool_utils.calculate_optimal_speed('Metal')\n",
    "print(f\"Optimal Speed: {optimal_speed}\")\n"
   ]
  },
  {
   "cell_type": "markdown",
   "metadata": {},
   "source": [
    "### Exercise 3.2\n",
    "Create a module named `saw_blade_utils.py` with a `SawBlade` class and a function `calculate_cutting_speed`. Then, in a new script, import this module and use its class and function.\n"
   ]
  },
  {
   "cell_type": "markdown",
   "metadata": {},
   "source": [
    "## Lesson 3.3: Python Standard Library and External Modules\n",
    "\n",
    "Python comes with a rich set of modules known as the Standard Library. Additionally, you can install external modules using tools like `pip`.\n",
    "\n",
    "### Python Standard Library\n",
    "- A collection of modules that come pre-installed with Python.\n",
    "- Offers a wide range of functionalities, from math to file handling.\n",
    "\n",
    "### External Modules\n",
    "- Modules that you can install using package managers like `pip`.\n",
    "- Extend Python's functionality.\n"
   ]
  },
  {
   "cell_type": "code",
   "execution_count": null,
   "metadata": {},
   "outputs": [],
   "source": [
    "# Using a module from the Python Standard Library\n",
    "import math\n",
    "\n",
    "# Example usage of a function from the math module\n",
    "print(f\"The square root of 16 is {math.sqrt(16)}\")\n"
   ]
  },
  {
   "cell_type": "markdown",
   "metadata": {},
   "source": [
    "### Exercise 3.3\n",
    "Use a function from the `datetime` module of the Python Standard Library. Then, install an external module using pip (for example, `requests`) and demonstrate one of its basic functionalities.\n"
   ]
  },
  {
   "cell_type": "markdown",
   "metadata": {},
   "source": [
    "# Introduction to Python Packages and `pip`\n",
    "\n",
    "In this module, we'll explore Python packages, including how to manage them using `pip`, Python's package installer. Understanding packages and `pip` is essential for leveraging external libraries and tools in Python, greatly expanding the capabilities of your programs.\n"
   ]
  },
  {
   "cell_type": "markdown",
   "metadata": {},
   "source": [
    "## Lesson 4.1: What are Python Packages?\n",
    "\n",
    "Packages in Python are a way of organizing and distributing Python code. Think of a package as a directory that contains files (modules) and a special file named `__init__.py`.\n",
    "\n",
    "### Python Packages\n",
    "- A package is a collection of Python modules.\n",
    "- It's a directory that contains one or more modules and a `__init__.py` file.\n",
    "- Packages help in structuring Python code more efficiently.\n",
    "\n",
    "### Using Python Packages\n",
    "- You can import packages in your Python scripts similar to how you import modules.\n",
    "- Packages allow for a hierarchical structuring of the module namespace.\n"
   ]
  },
  {
   "cell_type": "code",
   "execution_count": null,
   "metadata": {},
   "outputs": [],
   "source": [
    "# Example of importing a package\n",
    "# Assuming we have a package named 'power_tools' with a module 'drills'\n",
    "\n",
    "import power_tools.drills\n",
    "\n",
    "# Using a class from the imported package\n",
    "my_drill = power_tools.drills.Drill(model=\"DrillMaster 3000\")\n",
    "print(f\"Created a drill: {my_drill.model}\")\n"
   ]
  },
  {
   "cell_type": "markdown",
   "metadata": {},
   "source": [
    "### Exercise 4.1\n",
    "Create a simple package named `hand_tools` with a module `hammers`. Define a class `Hammer` in it with an attribute `type`. Then, import this package and create an instance of `Hammer`.\n"
   ]
  },
  {
   "cell_type": "markdown",
   "metadata": {},
   "source": [
    "## Lesson 4.2: Using `pip` for Installing Python Packages\n",
    "\n",
    "`pip` is a package manager for Python, allowing you to install and manage additional packages that are not part of the Python Standard Library.\n",
    "\n",
    "### Introduction to `pip`\n",
    "- `pip` stands for \"Pip Installs Packages.\"\n",
    "- It downloads packages from the Python Package Index (PyPI) and other indexes.\n",
    "\n",
    "### Installing Packages with `pip`\n",
    "- You can use `pip` to install, update, and remove Python packages.\n",
    "- Common command: `pip install package_name`\n",
    "\n",
    "### Finding Packages\n",
    "- Explore [PyPI](https://pypi.org/) to find various Python packages that you can install using `pip`.\n"
   ]
  }
 ],
 "metadata": {
  "kernelspec": {
   "display_name": "Python 3",
   "language": "python",
   "name": "python3"
  },
  "language_info": {
   "codemirror_mode": {
    "name": "ipython",
    "version": 3
   },
   "file_extension": ".py",
   "mimetype": "text/x-python",
   "name": "python",
   "nbconvert_exporter": "python",
   "pygments_lexer": "ipython3",
   "version": "3.9.7"
  }
 },
 "nbformat": 4,
 "nbformat_minor": 5
}
